{
 "cells": [
  {
   "cell_type": "markdown",
   "id": "2b3b2322-6787-4194-be66-4b3e2c12157d",
   "metadata": {},
   "source": [
    "Good morning! Here's your coding interview problem for today.\n",
    "\n",
    "This problem was asked by Two Sigma.\n",
    "\n",
    "Given two sorted iterators, merge it into one iterator.\n",
    "\n",
    "For example, given these two iterators:\n",
    "\n",
    "foo = iter([5, 10, 15])\n",
    "bar = iter([3, 8, 9])\n",
    "You should be able to do:\n",
    "\n",
    "for num in merge_iterators(foo, bar):\n",
    "    print(num)\n",
    "\n",
    " 3\n",
    " \n",
    " 5\n",
    " \n",
    " 8\n",
    " \n",
    " 9\n",
    " \n",
    " 10\n",
    " \n",
    " 15\n",
    " \n",
    "Bonus: Make it work without pulling in the contents of the iterators in memory."
   ]
  },
  {
   "cell_type": "markdown",
   "id": "9ef0e093-3fcb-4a89-9fe4-f3874cbc9213",
   "metadata": {},
   "source": [
    "# Solution 1: Brute force (does not satisfy the bonus)"
   ]
  },
  {
   "cell_type": "code",
   "execution_count": 21,
   "id": "ab351bd4-c8c2-4c59-9fa1-94aacda7d3c7",
   "metadata": {},
   "outputs": [],
   "source": [
    "def brutal_merge_iterators(foo,bar):\n",
    "    #create a min heap\n",
    "    merged = list(foo)\n",
    "    for value in bar:\n",
    "        i = 0\n",
    "        while i < len(merged):\n",
    "            if value < merged[i]:\n",
    "                merged.insert(i,value)\n",
    "                break\n",
    "            i = i+1\n",
    "    return iter(merged)\n",
    "        \n"
   ]
  },
  {
   "cell_type": "code",
   "execution_count": 17,
   "id": "6bc4fbc3-da71-4630-ad34-29b43a104fee",
   "metadata": {},
   "outputs": [
    {
     "name": "stdout",
     "output_type": "stream",
     "text": [
      "3\n",
      "5\n",
      "8\n",
      "9\n",
      "10\n",
      "15\n"
     ]
    }
   ],
   "source": [
    "foo = iter([5,10,15])\n",
    "bar = iter([3,8,9])\n",
    "\n",
    "for i in brutal_merge_iterators(foo,bar):\n",
    "    print(i)"
   ]
  },
  {
   "cell_type": "markdown",
   "id": "7ddb34ff-fcc8-4fa0-a627-9883c703fddc",
   "metadata": {},
   "source": [
    "# Solution 2: Using the next function as a pointer"
   ]
  },
  {
   "cell_type": "code",
   "execution_count": 47,
   "id": "d498501d-2b8e-4727-af2e-ec1911dcab76",
   "metadata": {},
   "outputs": [],
   "source": [
    "def ptr_merge_iterators(foo,bar):\n",
    "    #get the next item in each iterator or return none\n",
    "    next_foo = next(foo, None)\n",
    "    next_bar = next(bar, None)\n",
    "\n",
    "    #while either iter still has data\n",
    "    while next_foo is not None or next_bar is not None:\n",
    "        #if foo is not empty and it is less than bar\n",
    "        if next_foo is not None and (next_bar is None or next_foo < next_bar):\n",
    "            yield next_foo\n",
    "            next_foo = next(foo,None)\n",
    "        #if bar is not empty, then it failed the other test and must be smaller\n",
    "        elif next_bar is not None:\n",
    "            yield next_bar\n",
    "            next_bar = next(bar,None)\n",
    "         "
   ]
  },
  {
   "cell_type": "code",
   "execution_count": 49,
   "id": "3d46e74d-f52c-4a15-a964-74715e7d30ae",
   "metadata": {},
   "outputs": [
    {
     "name": "stdout",
     "output_type": "stream",
     "text": [
      "3\n",
      "5\n",
      "8\n",
      "9\n",
      "10\n",
      "15\n"
     ]
    }
   ],
   "source": [
    "foo = iter([5,10,15])\n",
    "bar = iter([3,8,9])\n",
    "\n",
    "for i in ptr_merge_iterators(foo,bar):\n",
    "    print(i)"
   ]
  },
  {
   "cell_type": "code",
   "execution_count": null,
   "id": "5fc81683-ff5d-49e5-9fd2-c40cbe147d79",
   "metadata": {},
   "outputs": [],
   "source": []
  }
 ],
 "metadata": {
  "kernelspec": {
   "display_name": "Python [conda env:base] *",
   "language": "python",
   "name": "conda-base-py"
  },
  "language_info": {
   "codemirror_mode": {
    "name": "ipython",
    "version": 3
   },
   "file_extension": ".py",
   "mimetype": "text/x-python",
   "name": "python",
   "nbconvert_exporter": "python",
   "pygments_lexer": "ipython3",
   "version": "3.12.7"
  }
 },
 "nbformat": 4,
 "nbformat_minor": 5
}
