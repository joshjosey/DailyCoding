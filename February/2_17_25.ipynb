{
 "cells": [
  {
   "cell_type": "markdown",
   "id": "5800cb75-65a3-4c75-ab18-dcc42b144e9f",
   "metadata": {},
   "source": [
    "Good morning! Here's your coding interview problem for today.\n",
    "\n",
    "This problem was asked by Google.\n",
    "\n",
    "Given an array of integers and a number k, where 1 <= k <= length of the array, compute the maximum values of each subarray of length k.\n",
    "\n",
    "For example, given array = [10, 5, 2, 7, 8, 7] and k = 3, we should get: [10, 7, 8, 8], since:\n",
    "\n",
    "10 = max(10, 5, 2)\n",
    "\n",
    "7 = max(5, 2, 7)\n",
    "\n",
    "8 = max(2, 7, 8)\n",
    "\n",
    "8 = max(7, 8, 7)\n",
    "\n",
    "Do this in O(n) time and O(k) space. You can modify the input array in-place and you do not need to store the results. You can simply print them out as you compute them.\n"
   ]
  },
  {
   "cell_type": "markdown",
   "id": "0b4d665b-1f23-486a-856b-9fda541016b9",
   "metadata": {},
   "source": [
    "### Approach 1: Iterate through\n",
    "this approach does not meet the constraint of O(n) time"
   ]
  },
  {
   "cell_type": "code",
   "execution_count": 23,
   "id": "d1795feb-2f95-4d0e-a8cd-cd80848e2615",
   "metadata": {},
   "outputs": [],
   "source": [
    "def max_subarray(array, k):\n",
    "    temp = []\n",
    "    start = 0\n",
    "    end = k\n",
    "\n",
    "    while end <= len(array):\n",
    "        temp = array[start:end]\n",
    "        print(max(temp))\n",
    "        start = start + 1\n",
    "        end = end + 1\n",
    "        "
   ]
  },
  {
   "cell_type": "code",
   "execution_count": 25,
   "id": "5475268a-da0e-4c61-a58f-e414562dc8b8",
   "metadata": {},
   "outputs": [
    {
     "name": "stdout",
     "output_type": "stream",
     "text": [
      "10\n",
      "7\n",
      "8\n",
      "8\n"
     ]
    }
   ],
   "source": [
    "max_subarray( [10, 5, 2, 7, 8, 7],3)"
   ]
  },
  {
   "cell_type": "markdown",
   "id": "a358064e-5671-4640-ac28-48708f8b4033",
   "metadata": {},
   "source": [
    "### Approach 2: Sliding window"
   ]
  },
  {
   "cell_type": "code",
   "execution_count": 56,
   "id": "1278430e-29fd-454c-a8d6-b0faf9e013d6",
   "metadata": {},
   "outputs": [],
   "source": [
    "def sliding_window(array,k):\n",
    "    #store the maximums and candidates in this list\n",
    "    max_list = []\n",
    "\n",
    "    for i in range(len(array)):\n",
    "        #Remove elements out of the window\n",
    "        if max_list and max_list[0] < i - k+1:\n",
    "            max_list.pop(0)\n",
    "        #remove elements smaller than the new one using negative indexing\n",
    "        while max_list and array[max_list[-1]] < array[i]:\n",
    "            max_list.pop()\n",
    "\n",
    "        #add the new element\n",
    "        max_list.append(i)\n",
    "        \n",
    "        #print the maximum element of each valid window\n",
    "        if i >= k-1:\n",
    "            print(array[max_list[0]])"
   ]
  },
  {
   "cell_type": "code",
   "execution_count": 58,
   "id": "8bd3b236-f95f-4df4-b16a-ae883f4016ab",
   "metadata": {},
   "outputs": [
    {
     "name": "stdout",
     "output_type": "stream",
     "text": [
      "10\n",
      "7\n",
      "8\n",
      "8\n"
     ]
    }
   ],
   "source": [
    "sliding_window( [10, 5, 2, 7, 8, 7],3)"
   ]
  },
  {
   "cell_type": "code",
   "execution_count": null,
   "id": "f5ee31b7-3d99-4366-886d-7e62285451f6",
   "metadata": {},
   "outputs": [],
   "source": []
  }
 ],
 "metadata": {
  "kernelspec": {
   "display_name": "Python [conda env:base] *",
   "language": "python",
   "name": "conda-base-py"
  },
  "language_info": {
   "codemirror_mode": {
    "name": "ipython",
    "version": 3
   },
   "file_extension": ".py",
   "mimetype": "text/x-python",
   "name": "python",
   "nbconvert_exporter": "python",
   "pygments_lexer": "ipython3",
   "version": "3.12.7"
  }
 },
 "nbformat": 4,
 "nbformat_minor": 5
}
