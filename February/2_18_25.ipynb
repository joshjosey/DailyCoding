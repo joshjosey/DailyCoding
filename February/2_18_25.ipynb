{
 "cells": [
  {
   "cell_type": "markdown",
   "id": "2c2ca882-6ec1-457a-91c7-33455ce7fa99",
   "metadata": {},
   "source": [
    "Good morning! Here's your coding interview problem for today.\n",
    "\n",
    "This problem was asked by Amazon.\n",
    "\n",
    "Given a sorted array arr of distinct integers, return the lowest index i for which arr[i] == i. Return null if there is no such index.\n",
    "\n",
    "For example, given the array [-5, -3, 2, 3], return 2 since arr[2] == 2. Even though arr[3] == 3, we return 2 since it's the lowest index.\n",
    "\n",
    "From dailycodingproblem.com\n"
   ]
  },
  {
   "cell_type": "markdown",
   "id": "c16e48f2-9898-4157-b383-93d239929140",
   "metadata": {},
   "source": [
    "### Solution 1: Iterate through"
   ]
  },
  {
   "cell_type": "code",
   "execution_count": 3,
   "id": "3a07accf-f4cc-4a6d-9aa7-78903a0c5258",
   "metadata": {},
   "outputs": [],
   "source": [
    "def find_lowest(array):\n",
    "    for i in range(0,len(array)):\n",
    "        if array[i] == i:\n",
    "            return i\n",
    "    return None"
   ]
  },
  {
   "cell_type": "code",
   "execution_count": 7,
   "id": "4940d169-2c3a-44f7-b2ff-b50b1d96ca6c",
   "metadata": {},
   "outputs": [
    {
     "name": "stdout",
     "output_type": "stream",
     "text": [
      "2\n",
      "None\n"
     ]
    }
   ],
   "source": [
    "A = [-5,-3,2,3]\n",
    "print(find_lowest(A))\n",
    "B = [1, 2, 3, 4]\n",
    "print(find_lowest(B))"
   ]
  },
  {
   "cell_type": "code",
   "execution_count": null,
   "id": "d948dd7a-08bd-4d07-a530-0454229ea09b",
   "metadata": {},
   "outputs": [],
   "source": []
  }
 ],
 "metadata": {
  "kernelspec": {
   "display_name": "Python [conda env:base] *",
   "language": "python",
   "name": "conda-base-py"
  },
  "language_info": {
   "codemirror_mode": {
    "name": "ipython",
    "version": 3
   },
   "file_extension": ".py",
   "mimetype": "text/x-python",
   "name": "python",
   "nbconvert_exporter": "python",
   "pygments_lexer": "ipython3",
   "version": "3.12.7"
  }
 },
 "nbformat": 4,
 "nbformat_minor": 5
}
